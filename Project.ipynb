{
 "cells": [
  {
   "cell_type": "markdown",
   "id": "conventional-repair",
   "metadata": {},
   "source": [
    "# Data C200 Final Project\n",
    "\n",
    "This is the Jupyter Notebook file of Data C200. Data in the `data` folder."
   ]
  },
  {
   "cell_type": "markdown",
   "id": "bound-terry",
   "metadata": {},
   "source": [
    "## Step 0 : Module and Data Import"
   ]
  },
  {
   "cell_type": "code",
   "execution_count": null,
   "id": "structured-europe",
   "metadata": {},
   "outputs": [],
   "source": [
    "import numpy as np\n",
    "import scipy as sp\n",
    "import pandas as pd\n",
    "import matplotlib as mpl\n",
    "import matplotlib.pyplot as plt\n",
    "import seaborn as sns\n",
    "\n",
    "import os\n",
    "\n",
    "%matplotlib inline"
   ]
  },
  {
   "cell_type": "code",
   "execution_count": null,
   "id": "coral-million",
   "metadata": {},
   "outputs": [],
   "source": [
    "data_filename = os.path.join('data', 'Accidental_Drug_Related_Deaths_2012-2018.csv')\n",
    "\n",
    "drug_related_deaths = pd.read_csv(data_filename)\n",
    "drug_related_deaths.head()"
   ]
  },
  {
   "cell_type": "markdown",
   "id": "precious-duplicate",
   "metadata": {},
   "source": [
    "## Step 1 : Exploratory Data Analysis (EDA)"
   ]
  },
  {
   "cell_type": "code",
   "execution_count": null,
   "id": "grateful-establishment",
   "metadata": {},
   "outputs": [],
   "source": []
  }
 ],
 "metadata": {
  "kernelspec": {
   "display_name": "Python 3",
   "language": "python",
   "name": "python3"
  },
  "language_info": {
   "codemirror_mode": {
    "name": "ipython",
    "version": 3
   },
   "file_extension": ".py",
   "mimetype": "text/x-python",
   "name": "python",
   "nbconvert_exporter": "python",
   "pygments_lexer": "ipython3",
   "version": "3.7.9"
  }
 },
 "nbformat": 4,
 "nbformat_minor": 5
}
