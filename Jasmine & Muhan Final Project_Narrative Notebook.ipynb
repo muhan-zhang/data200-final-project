{
 "cells": [
  {
   "cell_type": "markdown",
   "id": "passive-westminster",
   "metadata": {},
   "source": [
    "# Personal and Societal Factors Involved in Accidental Drug Related Deaths"
   ]
  },
  {
   "cell_type": "markdown",
   "id": "distant-charge",
   "metadata": {},
   "source": [
    "### Authors: Jasmine Lucy Newton & Muhan Zhang"
   ]
  },
  {
   "cell_type": "markdown",
   "id": "crazy-remainder",
   "metadata": {},
   "source": [
    "## I. Abstract"
   ]
  },
  {
   "cell_type": "markdown",
   "id": "novel-interim",
   "metadata": {},
   "source": [
    "## II. Introduction"
   ]
  },
  {
   "cell_type": "markdown",
   "id": "surrounded-liquid",
   "metadata": {},
   "source": [
    "## III. Description of Data"
   ]
  },
  {
   "cell_type": "markdown",
   "id": "satisfactory-slave",
   "metadata": {},
   "source": [
    "## Methods"
   ]
  },
  {
   "cell_type": "code",
   "execution_count": 1,
   "id": "allied-rapid",
   "metadata": {},
   "outputs": [],
   "source": [
    "from IPython.display import Image\n",
    "#Image(filename='output1.png')"
   ]
  },
  {
   "cell_type": "code",
   "execution_count": null,
   "id": "great-italic",
   "metadata": {},
   "outputs": [],
   "source": []
  }
 ],
 "metadata": {
  "kernelspec": {
   "display_name": "Python 3",
   "language": "python",
   "name": "python3"
  },
  "language_info": {
   "codemirror_mode": {
    "name": "ipython",
    "version": 3
   },
   "file_extension": ".py",
   "mimetype": "text/x-python",
   "name": "python",
   "nbconvert_exporter": "python",
   "pygments_lexer": "ipython3",
   "version": "3.7.7"
  }
 },
 "nbformat": 4,
 "nbformat_minor": 5
}
