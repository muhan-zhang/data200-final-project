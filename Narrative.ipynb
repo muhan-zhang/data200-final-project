{
 "cells": [
  {
   "cell_type": "markdown",
   "id": "supported-gibson",
   "metadata": {},
   "source": [
    "# I. Title: Personal and Societal Factors Involved in Accidental Drug Related Deaths\n"
   ]
  },
  {
   "cell_type": "markdown",
   "id": "manufactured-mailman",
   "metadata": {},
   "source": [
    "## II. Authors: Jasmine Lucy Newton & Muhan Zhang"
   ]
  },
  {
   "cell_type": "markdown",
   "id": "virgin-booth",
   "metadata": {},
   "source": [
    "## III. Abstract\n",
    "\n",
    "In this project, both personal factors (sex and age of an indicidual) and societal factors (county-specific data regarding educational attainment, racial identity, and income bracket) were investigated in the context of drug related death cases.  Exploratory data analysis, feature engineering, and linear modeling procedures were executed in order to analyze a dataset concerning drug related deaths in the U.S. state of Connecticut from 2012-2018.  Multiple visualizations based on the dataset of interest were created. A six-parameter linear regression model that included three societal factors (educational attainment, racial identity, and income bracket) and three drug classifications (Heroin, Cocaine and Fentanyl) did not yield ideal predicted results because it included drug classification parameters in addition to the societal parameters.  **However, this six-parameter model can be used to discern correlations between the usage of three specific drug classifications and the number of drug related deaths that occur in a specific county in Connecticut for a specific ethnic group and a specific year with 99.33% accuracy on the training dataset and approximately 98.96% accuracy on the test dataset.  An improved version of the model, which was a three-parameter linear regression model based only on the aforementioned societal factors, yielded weaker results compared to the original six-parameter model that included both three societal parameters and the three drug classifications 77.98% accuracy on the training dataset and 84.35% accuracy on the test dataset.  Although the accuracy rates are lower, this three-parameter model is an improvement because it can be used to predict the number of drug related death cases given a specific county in Connecticut, a specific ethnic group, and a specific year (for all years after 2018) by using only the three societal factors as features.**\n",
    "\n",
    "Multiple visualizations were used to reveal interesting trends in the dataset with respect to types of drugs used, gender and age related differences, and temporal trends in the drug related deaths dataset.  It was discovered that the locations of death were clustered around the centers of towns and cities, as demonstrated by a heatmap visualization.  A bar plot illustrated that death cases involving the usage of one or more opioid drugs were far more frequent than even the sum of all deaths involving non-opioid drugs combined.  An overlaid histogram with a KDE estimate showed that drug related death cases are roughly 2.5 times more frequent in males compared to females and that deaths were most frequent in the 28-32 year old and 48-52 year old age groups.  A violin plot split by gender depicted that males death cases were more likely to involve the usage of drugs in the Drug Enforcement Agency (DEA) Schedule 1 and that female death cases were more likely to involve the usage of drugs in the Drug Enforcement Agency (DEA) Schedules 2-5.  A box plot visualization demonstrated that the vast majority of drug related death cases occurred in the 30-55 year old age group regardless of the type of drug used.  Finally, three line plots revealed interesting temporal trends in the dataset with respect to the year, month of the year, and day of the week recorded for each of the death cases.\n"
   ]
  },
  {
   "cell_type": "markdown",
   "id": "nutritional-fitness",
   "metadata": {},
   "source": [
    "## IV. Introduction\n",
    "There has been an alarming increase in the number of deaths caused by drug use in the United States during the 2010’s.  In fact, death from injury cases in the United States most commonly result from drug overdoses[[1]](https://www.bmj.com/content/350/bmj.h3328).  This has had devastating effects on the national economy, healthcare system, and the lives of individuals and their families.  The authors were interested in investigating the individual or personal factors that may be associated with drug use that leads to death such as the gender and age of an individual that has died from drug usage.  The authors also wanted to investigate the external or societal factors such as a specific county’s distribution of educational attainment, income brackets, and racial identities, that may have a relationship with the number of deaths caused by drug use.  Carefully analyzing these factors as well as temporal trends with respect to the number of drug related death cases will allow for a closer examination of the details associated with the numerous death cases involving drug usage that have taken the United States by storm in the past decade.\n"
   ]
  },
  {
   "cell_type": "markdown",
   "id": "geographic-parent",
   "metadata": {},
   "source": [
    "## V. Description of Data\n",
    "The dataset of interest that the project was based on concerns drug-related deaths in the U.S. state of Connecticut from 2012 to 2018[[2]](https://www.kaggle.com/muhakabartay/accidental-drug-related-deaths-20122018).   Each record (i.e. row) in the dataset represents a single individual’s death.  The columns of the dataset, which contain the recorded details of each death case, can be sorted into five different categories.  The first category of column data contains basic information such as the personr’s age, sex, race, and date of death.  The second category of column data contains death location information which consists of the city, county, and geometry or coordinate of the person’s location of death.  The third category of column data contains injury location information which consists of the city, county, and geometry or coordinate of the person’s location of injury. The fourth category of column data contains location of residence information which consists of the city, county, and geometry or coordinate of the person’s location of residence.  The fifth category of column data contains drug classification information concerning the specific drugs involved in each death case.  There were 17 columns total in this firth category for column data,  meaning that there were 17 distinct categories of drugs recorded in this dataset. "
   ]
  },
  {
   "cell_type": "markdown",
   "id": "sustainable-knock",
   "metadata": {},
   "source": [
    "## VI. Methods\n",
    "\n",
    "The procedure and methods performed in this project consisted of three main parts.  First, data cleaning was performed on multiple sets of data in addition to the dataset of interest.  After the data cleaning and other exploratory data analysis (EDA) processes were completed, feature engineering and linear regression modeling procedures were executed.  Two linear models were built, one with three parameters, and one with six parameters.  While all aspects of the experimental methods were executed in a meticulous manner, there was a particular emphasis placed on the EDA process.  All codes are implemented in [Python](https://www.python.org/) language, and the libraries we used include [folium](https://python-visualization.github.io/folium/), [matplotlib](https://matplotlib.org/), [NumPy](https://numpy.org/), [os](https://docs.python.org/3/library/os.html), [pandas](https://pandas.pydata.org/), [re](https://docs.python.org/3/library/re.html), [scikit-learn](https://scikit-learn.org/stable/), [seaborn](https://seaborn.pydata.org/index.html) (listed in alphabetical order).\n"
   ]
  },
  {
   "cell_type": "markdown",
   "id": "small-dynamics",
   "metadata": {},
   "source": [
    "### A. Exploratory Data Analysis And Data Cleaning\n",
    "The dataset of interest concerns drug related deaths recorded in the U.S. state of Connecticut during the time period of 2012-2018.  Thus, the main focus of the project centered around using and evaluating this particular dataset.  However, it was made clear during the process of data cleaning that utilizing additional datasets was necessary in order to execute the EDA tasks.  As a result, six supplementary datasets were obtained and cleaned in addition to the dataset of interest.  Three of these supplementary datasets concerned location data in Connecticut.  The first auxiliary location based dataset contained all municipalities (cities and towns) in Connecticut and their respective counties, the second auxiliary location based dataset contained all boroughs in Connecticut and their respective parent towns, and the third auxiliary location based dataset consisted of census designated places in Connecticut and their respective counties.  The remaining three supplementary datasets contained demographic information for the state of Connecticut.  These three demographic information based datasets were used in order to incorporate potential societal factors that may be associated with the number of drug related deaths in different regions of Connecticut.  The underlying structure and content of all six of these auxiliary datasets proved to be significantly more haphazard than they had initially appeared.  As a result, cleaning and processing these six supplementary datasets in addition to the drug related deaths dataset of interest proved to be a particularly strenuous undertaking that ultimately shaped the course of the entire project.\n"
   ]
  },
  {
   "cell_type": "markdown",
   "id": "fallen-florist",
   "metadata": {},
   "source": [
    "### Preliminary Strategies for Cleaning Location Data \n",
    "During the process of cleaning the location data, it was necessary to import additional libraries into the analysis notebook.  In particular, the re library was imported in order to process regex syntax and the folium library was imported in order to map projections from location-based coordinate data from the drug related deaths dataset onto various web maps.  Since each record (i.e row) of the dataset of interest represents an individual drug related death case recorded in the state of Connecticut, the ideal strategy was to organize all of the location information in the dataset into counties.  Thus, the overarching goal of our data cleaning processes was to produce a final dataset with a county-level granularity for visualization and modeling purposes.   \n"
   ]
  },
  {
   "cell_type": "markdown",
   "id": "severe-marriage",
   "metadata": {},
   "source": [
    "### Sorting All Records into their Appropriate Counties\n",
    "\n",
    "The dataset of interest contained two general categories of location data: the person’s location of residence and their location of death.  Upon closer examination, it quickly became clear that there were numerous records in the dataset where the person’s official state of residence differed from their location of death.  Thus, it was decided that the residential location data columns were not reliable enough to use for EDA and modeling processes. Fortunately, it appeared that the location of death data contained values that all corresponded to locations in the state of Connecticut and may thus be more reliable than the location of residence data.  To confirm this initial observation, modules in the folium library were used to map all of the location of death values in the drug related deaths DataFrame onto a map of the state of Connecticut, which was obtained from Wikipedia[[3]](https://en.wikipedia.org/wiki/Connecticut).   It was then visually determined that all of the location of death values recorded in the drug related deaths DataFrame were indeed all located within the state border of Connecticut.  Since the dataset columns that contained information concerning the location of death all corresponded to positions in Connecticut, the location of death was determined to be the appropriate category to base the remainder of the project on."
   ]
  },
  {
   "cell_type": "markdown",
   "id": "unexpected-dover",
   "metadata": {},
   "source": [
    "### Determining County-Level Granularity\n",
    "The drug related deaths dataset had many missing (i.e. null) values in the locational columns.  Since the city of death column had many more non-null values than the county of death column, the cities were prioritized in the cleaning process.  Thus, it was necessary to develop cleaning strategies and procedures that would allow the city of death values to be sorted into their respective counties.  There was a large emphasis placed on the numerous records in the drug related deaths DataFrame where only a city of death value was recorded with no indication of its associated county.\n",
    "\n"
   ]
  },
  {
   "cell_type": "markdown",
   "id": "constitutional-lightning",
   "metadata": {},
   "source": [
    "### Managing Idiosyncratic Death City Values \n",
    "Many of the values recorded in the city of death column of the drug related death dataset were disorganized, inconsistent, or otherwise problematic.  For example, there were city of death values that contained abbreviations (e.g. *N Haven* instead of *North Haven*), typographical errors (e.g. *Cannan*, which is a misspelling of *Canaan*), or were otherwise peculiar (e.g. a zip code recorded in the city of death column).  As a result, substantial data cleaning procedures needed to be performed on the city of death entries before they could be sorted into their respective counties.  First, a Python dictionary was used to manually transform the problematic entries into valid city names.  In this dictionary, the keys were carefully constructed such that the new dictionary mapped the problematic city of death values to their correct city names.  The end result was an improved version of the drug related deaths dataset where all city of death names were consistent, correct, and clean. \n",
    "\n"
   ]
  },
  {
   "cell_type": "markdown",
   "id": "afraid-dubai",
   "metadata": {},
   "source": [
    "### Use of Auxiliary Datasets and the `merge` Method\n",
    "\n",
    "Once the city of death names were cleaned, several auxiliary datasets were obtained in order to sort these clean city values into their appropriate counties.  In addition to cities and towns, the cleaned death city column contained several smaller locational categories.  These smaller locational categories included census-designated places (CDPs), boroughs, and villages[[4]](https://www.census.gov/programs-surveys/popest/guidance-geographies/terms-and-definitions.html).  Three auxiliary datasets were obtained to assist with the process of sorting these smaller regions into their corresponding counties.\n",
    "\n",
    "CDPs are small communities that have no legal status, but are considered distinct entities by the United States Census Bureau when collecting decennial census data[[4]](https://www.census.gov/programs-surveys/popest/guidance-geographies/terms-and-definitions.html).  To sort the CDP’s into their counties, an auxiliary dataset containing all CDPs in Connecticut and their corresponding counties was used to map all existing CDP values in the city of death column of the drug related deaths DataFrame to their respective counties.  Boroughs are small regions which correspond to a parent town[[4]](https://www.census.gov/programs-surveys/popest/guidance-geographies/terms-and-definitions.html).  Fortunately, an additional auxiliary dataset containing all boroughs in Connecticut and their corresponding parent towns was located and all of the boroughs in the city of death column were mapped to their parent towns.  Villages are small regions that are not recognized as a locational unit for U.S. census purposes[[4]](https://www.census.gov/programs-surveys/popest/guidance-geographies/terms-and-definitions.html).  Because of their lack of status in the U.S. Census Bureau, an auxiliary dataset mapping villages to their respective towns could not be located.  Consequently, all records containing village values in the city of death column were dropped from the drug related deaths DataFrame.  A third auxiliary dataset containing all municipalities (i.e. cities and towns) in Connecticut and their respective counties was also acquired to further assist in the process of mapping the city of death values in the drug related deaths DataFrame into their appropriate counties.\n",
    "\n",
    "Once the Boroughs were mapped to their parent towns, the resulting boroughs dataset, the CDP auxiliary dataset, and the municipalities dataset were concatenated to create an intermediate DataFrame that encompassed information for all cities, towns, CDPs, and boroughs as well as their corresponding counties.  The `merge` method was then used in order to sort all the clean city of death values for all records in the drug related deaths DataFrame, into their respective counties.  Specifically, the drug related deaths dataset was left merged onto the concatenated intermediate DataFrame that contained all locational entities in Connecticut and their respective counties by using the key value of city names.  After the merge was completed, the records in the modified drug related deaths DataFrame were properly sorted in their appropriate counties and thus ready to analyze on a county-level of granularity.\n"
   ]
  },
  {
   "cell_type": "markdown",
   "id": "covered-republic",
   "metadata": {},
   "source": [
    "### Using Latitude and Longitude Data to Produce a Web Map Projection\n",
    "The drug related deaths dataset contained the latitude and longitude coordinates, which proved to be useful for geographical visualization purposes.  The goal was to create a heatmap visualization that intuitively depicts the number of death cases in any particular region (i.e. density of death cases) by color.  Since the original latitude and longitude values were of the data type string, these values were first parsed using regex processing and pandas `str` methods to prepare them for mapping.  Modules in the folium library were then used to create a heatmap visualization.  The parsed latitude and longitude values of the location of death for all of the records of death in the drug related deaths DataFrame were passed through as the input values, and the output was a web map that differentiates the density of recorded death cases in any given location by color.\n"
   ]
  },
  {
   "cell_type": "markdown",
   "id": "loving-massage",
   "metadata": {},
   "source": [
    "### Transforming the Time of Death Values into the Data Type datetime \n",
    "The time of death values in the drug related deaths DataFrame were of the data type string.  These values were passed into a function that converted these string values to the data type datetime.  Once the time of death values were converted to the datetime data type, the year, month, day, hours, minutes, and seconds were easily extracted from the time of death values.  It was quickly apparent that all of the time of day values in the drug related deaths dataset were recorded as 12:00:00 AM.  The fact that the same exact hours, minutes, and seconds values for the time of death was reported across every single record in the drug related deaths data set may have simply been due to a manner of convenience for the individuals that recorded these values when recording all death data.  Another possibility is that the homogenous time of death values may have been a consequence of how these values were entered into the system’s database.  Regardless of the reason for this rigid consistency in the time of death values across all death records, the hour, minute, and second values were not reliable enough to use for the remaining data analysis procedures simply because it is virtually impossible that all of the individuals in this entire dataset died at exactly 12:00:00 AM.  Once the time of death data was cleaned, the year, month, and day of week values were used to create visualizations that incorporated these temporal elements of the dataset.\n"
   ]
  },
  {
   "cell_type": "markdown",
   "id": "identical-handy",
   "metadata": {},
   "source": [
    "### Cleaning and One-Hot Encoding Drug Classifications Data\n",
    "The drug related death dataset contained information concerning which drugs were in the person’s system at the time of their death.  The data set contained 17 unique columns corresponding to different drug classifications.  The majority of the records in the dataset contained binary variables in the drug classifications columns, such that a value of 1 in a particular drug classification column meant that the drug was found in the person’s system at the time of their death, and a value of 0 meant that the drug was not found in the person’s system at the time of their death.  However, some of the records contained alphanumeric strings instead of binary values in the drug classifications columns. These alphanumeric values needed to be manually cleaned and sorted in order to assign them to their proper binary values in preparation for the one-hot encoding process.  It was straightforward enough to replace values of Y with a value of 1, because a value of yes indicates that the drug classification was found in the person’s system.  Similarly, it was easy to replace values of NaN with a value of 0, because a null value indicates that the particular drug classification was not found in the person’s system.  Similarly, values of N were one-hot also encoded as 0.\n"
   ]
  },
  {
   "cell_type": "markdown",
   "id": "selective-efficiency",
   "metadata": {},
   "source": [
    "## B. Feature Engineering and Modeling"
   ]
  },
  {
   "cell_type": "markdown",
   "id": "loose-marsh",
   "metadata": {},
   "source": [
    "### Societal Factors Data: Constructing a DataFrame Composed of County-Specific Data of Racial Identity, Income Bracket, and Educational Attainment\n",
    "\n",
    "In order to evaluate the external or societal factors that may impact the number of drug related deaths in a particular county in Connecticut, a new DataFrame containing societal variables was created.  The societal parameters of interest were derived from U.S. census data in each county in Connecticut with respect to educational attainment, racial identity, and income bracket.  To create this DataFrame of societal factors for modeling purposes, three auxiliary datasets were obtained.  These three auxiliary datasets contained county-specific information with respect to racial identity (RI), and income bracket (IB), educational attainment (EA).  All three of these auxiliary datasets were derived from information collected by the U.S. Census Bureau.  \n",
    "\n",
    "The raw county-specific data concerning the income bracket and educational attainment variables were acquired for the three different five-year year brackets, 2012-2016, 2013-2017, and 2014-2018, which span the 2012-2018 temporal range of the drug related deaths dataset.  To accomodate any minute temporal differences across the three five-year brackets, the mathematical average for the educational attainment and income bracket variables was taken across each of the three five-year brackets after the values in the DataFrame had been grouped by county (and also grouped by racial identity in the case of the racial identity and income bracket datasets).  This temporal mean simultaneously encompassed county-specific educational attainment and income bracket data for all years 2012-2018, which span the drug related deaths dataset.  **Since the educational attainment and income bracket parameters were held constant for all years spanning the time range of the drug related deaths dataset, a slightly different procedure was used to formulate the racial identity variable in order to incorporate temporal information into the societal factors data.**\n"
   ]
  },
  {
   "cell_type": "markdown",
   "id": "plain-impact",
   "metadata": {},
   "source": [
    "### County-Specific Data Concerning Racial Identity\n",
    " \n",
    "The racial identity auxiliary dataset contained the populations of people who fall under one of eight distinct racial identity categories that reside in each county in Connecticut[[4]](http://data.ctdata.org/visualization/population-by-race-by-county?v=table&f={%22County%22:%20%22Connecticut%22,%20%22Variable%22:%20[%22Population%22,%20%22Margins%20of%20Error%22],%20%22Race/Ethnicity%22:%20[%22American%20Indian%20and%20Alaska%20Native%20Alone%22,%20%22Asian%20Alone%22,%20%22Black%20or%20African%20American%20Alone%22,%20%22Hispanic%20or%20Latino%20(of%20any%20race)%22,%20%22Native%20Hawaiian%20and%20Other%20Pacific%20Islander%20Alone%22,%20%22Some%20Other%20Race%20Alone%22,%20%22Two%20or%20More%20Races%22,%20%22White%20Alone%22],%20%22Year%22:%20%222015-2019%22}).  The eight racial identity categories recorded in this dataset are American Indian and Alaska Native alone, Asian alone, Black or African American alone, Hispanic or Latino (of any race), Native Hawaiian and Other Pacific Islander alone, some other race alone, two or more races, and White alone.  The racial identity variable is qualitative nominal, meaning there is no inherent ordering associated with it.  However, for the sake of simplicity during the modeling process, these racial identity categories were assigned quantized values in the domain [0,7] on the basis of alphabetical ordering.  To further propel the modeling process, it was necessary to compute the county-specific proportions of the population of people composing each racial identity category relative to the total county population.  These populational proportions for each racial identity category were then added to the racial identity DataFrame.  Because the proportion of individuals composing each of the eight racial identity categories were computed for all eight counties in Connecticut, the final encoded racial identity DataFrame contained sixty-four records total.\n",
    "\n"
   ]
  },
  {
   "cell_type": "markdown",
   "id": "quick-allen",
   "metadata": {},
   "source": [
    "\n",
    "### County-Specific Data Concerning Income Brackets by Racial Identity\n",
    "The income bracket auxiliary dataset contained county-specific median income information as a ratio of county median income to state median income[[6]](http://data.ctdata.org/visualization/median-household-income-by-county?v=table&f={%22County%22:%20%22Connecticut%22,%20%22Variable%22:%20[%22Median%20Household%20Income%22,%20%22Margins%20of%20Error%22],%20%22Race/Ethnicity%22:%20%22All%22,%20%22Measure%20Type%22:%20%22Number%22,%20%22Year%22:%20%222015-2019%22}).  Fortunately, the county median income to state median income ratio was also available each of the eight different racial identities contained in the racial identities DataFrame.   Because the proportion of the median income to state median income was reported for individuals comprising each of the eight racial identity categories in each of the eight counties in Connecticut, the final encoded racial identity DataFrame contained sixty-four records total.\n"
   ]
  },
  {
   "cell_type": "markdown",
   "id": "portable-louisville",
   "metadata": {},
   "source": [
    "### County-Specific Data Concerning Educational Attainment\n",
    "\n",
    "The educational attainment auxiliary dataset contained county-specific information concerning the populational prevalence of individuals having one of five different levels of education achievement[[7]](http://data.ctdata.org/visualization/educational-attainment?v=table&f={%22Town%22:%20%22Connecticut%22,%20%22Educational%20Attainment%22:%20%22Total%22,%20%22Measure%20Type%22:%20%22Number%22,%20%22Year%22:%20%222015-2019%22,%20%22Variable%22:%20[%22Educational%20Attainment%22,%20%22Margins%20of%20Error%22],%20%22Gender%22:%20%22Total%22}).  The levels of education in this dataset were Less than High School Diploma, High School Diploma GED or Equivalent, Some College, Associate’s Degree, and Bachelor’s Degree or higher.  Unlike the racial identity and income bracket data, the educational attainment data was not differentiated by race.  Consequently, only a single set of educational attainment values was available.  Since each of the aforementioned educational categories are qualitative ordinal, meaning they are associated with a ranking, they were encoded as 0, 1, 2, 3, and 4, respectively.  For each county, a weighted sum was computed by first multiplying the proportion of people with a particular education level times the corresponding encoded values of domain [0,4], repeating the process for the remaining educational levels, and then computing the sum of these weighted values.  After the educational attainment DataFrame was encoded and the weighted sum of educational levels was computed for every county, the educational attainment DataFrame only contained 8 records at the end of the process, each containing a quantitative continuous value with domain [0,4].  In the final educational attainment DataFrame, each record represents a single averaged educational attainment value for a single county across the total population, regardless of racial identity category.  Because it only had eight individual records, the encoded educational attainment DataFrame was more coarse than the final DataFrames containing the county-specific racial identity and income bracket variables.\n",
    "\n"
   ]
  },
  {
   "cell_type": "markdown",
   "id": "binary-spoke",
   "metadata": {},
   "source": [
    "### Linear Regression Modeling\n",
    "\n",
    "Since the authors were the most acquainted with the linear regression model at the time that the experiment was being performed, the linear regression model was used to model all of the data that had been cleaned and prepared.  During the modeling process, the parameters of interest (i.e. x-values) were the data of each county in Connecticut with respect to educational attainment, racial identity, and income bracket.  The initial y-values (i.e. the values before the predictions were performed) represented the number of drug related deaths in a specific county for a specific ethnic group for a specific year.  To solve this regression problem, the Standard Scaler was used to first transform the data into standard units. Once the data were transformed into standard units, the linear regression model was applied to two different sets of parameters, generalized by cross validation with 5 folds.  The first linear model, which was featured during the project presentation, contained six features.  This model contained each of the societal parameters of interest, which were educational attainment, racial identity, and income bracket, as well as three different drug classifications, which were heroin, cocaine, and fentanyl, which resulted in six parameters total for this model.  Heroin, cocaine, and fentanyl were specifically selected as the drug classification parameters out of all seventeen drug classifications in the drug related deaths dataset because each of these drug classifications were associated with a high frequency of deaths spanning all of the years 2012-2018 recorded in the dataset of interest.  Furthermore, the frequency of heroin, cocaine, and fentanyl related death cases exhibited clear long-term temporal trends across the years 2012-2018.  A second linear model that contained only the three societal parameters of interest, which were racial identity, educational attainment, and income bracket was also created.  To assess the quality of both of these linear regression models, a residual plot was created for both the six-parameter and three-parameter models in order to compare the predictions that the models produced for both the training and test datasets."
   ]
  },
  {
   "cell_type": "markdown",
   "id": "passive-reminder",
   "metadata": {},
   "source": [
    "### VII. Results"
   ]
  },
  {
   "cell_type": "markdown",
   "id": "motivated-utility",
   "metadata": {},
   "source": [
    "### Analyzing the Location of Death for all records in in the Reported Drug Related Deaths\n",
    "\n",
    "To visually examine the distribution of the reported location of death data for all death cases in the drug related deaths dataset, a heatmap was created based on the latitude and longitude values of the location of death data  The heat map is intuitively color differentiated with respect to the density of death cases in any given location.  In this heatmap, red, orange, and yellow areas correspond to higher densities of drug related death cases than blue or purple areas.  The original heatmap, which can be found in the analysis notebook, has an interactive component, and the key locational trends are depicted in Figure 1, Figure 2, and Figure 3 via still snapshot images of the webmap. \n"
   ]
  },
  {
   "cell_type": "markdown",
   "id": "arbitrary-intersection",
   "metadata": {},
   "source": [
    "![Map 1](images/1map.png \"Full Map\")"
   ]
  },
  {
   "cell_type": "markdown",
   "id": "heavy-pharmacy",
   "metadata": {},
   "source": [
    "**Figure 1**: A first view of the heat map that encompasses all of the locations of death for every death case recorded in the drug related deaths dataset.\n",
    "\n",
    "*Result 1*: For every record in the drug related deaths dataset, the location of each death case falls within the border of the U.S. state of Connecticut.  The frequency of death cases appears to be more concentrated in certain regions relative to other regions.\n",
    "\n"
   ]
  },
  {
   "cell_type": "markdown",
   "id": "permanent-vampire",
   "metadata": {},
   "source": [
    "![Map 2](images/2map.png \"Map View 2\")"
   ]
  },
  {
   "cell_type": "markdown",
   "id": "italian-tucson",
   "metadata": {},
   "source": [
    "**Figure 2**: A detailed view of the heat map that encompasses all of the locations of death for every death case recorded in the drug related deaths dataset.\n",
    "\n",
    "\n",
    "*Result 2*: The locations of death are clustered around certain regions in Connecticut as opposed to being evenly distributed across the state.  A single red region depicts an exceptionally large number of drug related death cases.\n",
    "\n"
   ]
  },
  {
   "cell_type": "markdown",
   "id": "stretch-church",
   "metadata": {},
   "source": [
    "![Map 3](images/3map.png \"Map View 3\")"
   ]
  },
  {
   "cell_type": "markdown",
   "id": "official-philosophy",
   "metadata": {},
   "source": [
    "**Figure 3**: A detailed view of the towns and cities that surround the single red-colored region, which possesses the highest concentration of drug related death cases.\n",
    "\n",
    "*Result 3*: Upon closer inspection, it appears that the clusters of death cases are concentrated in the geographical centers of cities and towns.  The death cases are by far the most concentrated in Hartford, Connecticut.\n",
    "\n"
   ]
  },
  {
   "cell_type": "markdown",
   "id": "listed-nylon",
   "metadata": {},
   "source": [
    "![barplot](images/barplot_deaths_by_drug.png \"Barplot Drug Type\")"
   ]
  },
  {
   "cell_type": "markdown",
   "id": "liberal-pantyhose",
   "metadata": {},
   "source": [
    "**Figure 4**: A barplot charting the frequency of drug related deaths by drug classification.  \n",
    " \n",
    "The seventeen different drug classifications that were recorded in the drug related deaths dataset fall under two broad categories: opioid drugs and non-opioid drugs.  The drug classifications that fall under the opioid category include heroin, fentanyl, fentanyl analogues (recorded as FentanylAnalogue), oxycodone, oxymorphone, hydrocodone, methadone, tramadol (recorded as tramad), morphine (recorded as Morphine_NotHeroin), and hydromorphone[[8]](https://en.wikipedia.org/wiki/List_of_opioids).  Additionally, there were two catch-all opioid related drug classifications encompassing opioid drugs that were not specified by name (recorded as OpioidNOS) and opioid drugs of any type (recorded as AnyOpioid).  The drug classifications that are not included in the opioid category (i.e. non-opioids) include cocaine, ethanol (i.e. drinking alcohol), benzodiazepines (recorded as Benzodiazepine), and amphetamine or methamphetamine (both recorded as Amphet). \n",
    "\n",
    "\n",
    "*Result 4*: Death cases involving at least one drug that falls under the opioid category are far more frequent than death cases recorded for non-opioid drugs.  In fact, the number of death cases where at least one opioid drug was involved is far greater than even the sum of all deaths involving cocaine, ethanol, and benzodiazepines.\n",
    "\n"
   ]
  },
  {
   "cell_type": "markdown",
   "id": "damaged-sucking",
   "metadata": {},
   "source": [
    "### Visualizing the Relationship Between Age, Sex, and the Frequency of Drug Related Deaths¶\n",
    "\n",
    "\n",
    "To gain insight as to whether drug use that leads to death is more common in one gender or another and whether such drug use is more frequent among certain age groups, an overlaid histogram was created.   A kernel density estimate was added to the histogram, which serves as a non-parametric model. \n",
    "\n"
   ]
  },
  {
   "cell_type": "markdown",
   "id": "favorite-attendance",
   "metadata": {},
   "source": [
    "![Overlaid Histogram](images/overlaid_histogram_deaths_by_age_and_sex.png \"Overlaid Histogram\")"
   ]
  },
  {
   "cell_type": "markdown",
   "id": "vertical-license",
   "metadata": {},
   "source": [
    "\n",
    "**Figure 5**: An overlaid histogram plotting the frequency of death cases binned by age.  The histogram is color separated by the reported sex of the person (male, female, or unknown).  The distribution of male and female death cases are both bimodal and weakly right-skewed.\n",
    "\n",
    "*Result 5a*: The histogram indicates that drug related death cases are approximately 2.5 times more frequent in males compared to females.\n",
    "\n",
    "*Result 5b*: The kernel density estimates indicate that the distributions for male and females are bimodal with respect to age.  The first mode occurs in the age group of approximately 28-32 years old and the second mode occurs in the age group of approximately 48-52 years old.\n"
   ]
  },
  {
   "cell_type": "markdown",
   "id": "historical-morning",
   "metadata": {},
   "source": [
    "### Violin Plot To Visualize Gender Related Differences in Drug Used at The Time of Death\n",
    "A violin plot that is color separated on the basis of gender was created in order to gain insight as to whether there are gender related differences in the types of drugs found in the person’s system at the time of their death.\n"
   ]
  },
  {
   "cell_type": "markdown",
   "id": "molecular-serve",
   "metadata": {},
   "source": [
    "![Violin Gender Drug Type](images/violin_drug_type_by_sex.png \"Violin Gender Drug Type\")\n",
    "\n"
   ]
  },
  {
   "cell_type": "markdown",
   "id": "basic-lawrence",
   "metadata": {},
   "source": [
    "**Figure 6**: A violin plot with the person’s age represented by the x-axis and the different drug classifications represented by the y-axis.  The violin plots are color separated on the basis of gender with green representing death cases involving females who use drugs and orange representing death cases involving male who use drugs.\n",
    "\n",
    "*Result 6*: The distributions for death cases are similar overall for both males and females who died from drug use, but there are some gender related differences concerning the type of drug found in the person’s system at the time of their death.  Heroin as well as amphetamine and methamphetamine (both recorded as Amphet) were more frequently found in the bodies of males who died from drug use than in females who died from drug use.  Fentanyl, fentanyl analogues (recorded as FentanylAnalogue), oxycodone, oxymorphone, benzodiazepines (recorded as benzodiazepine), tramadol (recorded as tramad), and hydromorphone were more frequently found in the bodies of females who died from drug use than males who died from drug use.  Drugs that were found in the bodies of both males and females who died from drug use in roughly equal rates fell under the drug classifications cocaine, ethanol, methadone, hydrocodone, morphine (recorded as Morphine_NotHeroin), and two catch-all opioid related drug classifications encompassing opioid drugs that were not specified by name (recorded as OpioidNOS) as well as opioid drugs of any type (recorded as AnyOpioid).\n"
   ]
  },
  {
   "cell_type": "markdown",
   "id": "northern-sleeve",
   "metadata": {},
   "source": [
    "### Boxplot to Visualize Age Related Trends Concerning the Drug Used at the Time of Death\n",
    "To visualize age-related distributions in the death cases with respect to each of the drug classifications, a box plot was created.\n"
   ]
  },
  {
   "cell_type": "markdown",
   "id": "charged-exclusion",
   "metadata": {},
   "source": [
    "![Barplot Age Gender Drug Type](images/boxplot_drug_type_by_age.png \"Barplot Age Gender Drug Type\")"
   ]
  },
  {
   "cell_type": "markdown",
   "id": "animal-resident",
   "metadata": {},
   "source": [
    "**Figure 7**: A boxplot with the person’s age at the time of death represented by the x-axis and the different drug classifications represented by the y-axis.  The box plots are color separated on the basis of gender with blue representing death cases involving females who died from drug use and orange representing death cases involving males who died from drug use.\n",
    "\n",
    "*Result 7*: Drug related death cases among both males and females are the most frequent and highly concentrated among the ages of approximately 30-55 years old across all drug classifications in the drug related deaths dataset.\n"
   ]
  },
  {
   "cell_type": "markdown",
   "id": "recorded-garden",
   "metadata": {},
   "source": [
    "## Visualizing the Number of Drug Related Deaths by Year for the Years 2012-2018\n",
    "\n"
   ]
  },
  {
   "cell_type": "markdown",
   "id": "imposed-advice",
   "metadata": {},
   "source": [
    "![Line Plot Years](images/deaths_by_year_linegraph.png \"Line Plot Years\")"
   ]
  },
  {
   "cell_type": "markdown",
   "id": "tight-purse",
   "metadata": {},
   "source": [
    "**Figure 8**: Visualization of the temporal trends in the drug related deaths dataset on the timescale of years.  The years are represented by the x-axis and the number of drug related deaths for each year is represented by the y-axis.\n",
    "\n",
    "*Result 8a*: The number of drug related death cases steeply increased during the years 2012-2016.\n",
    "\n",
    "*Result 8b*: There is a smaller increase in death cases in 2017 compared to the previous years.\n",
    "\n",
    "*Result 8c*: The number of drug related death cases in this dataset drops for the first time in 2018.\n"
   ]
  },
  {
   "cell_type": "markdown",
   "id": "protective-occupation",
   "metadata": {},
   "source": [
    "### Visualizing the Number of Drug Related Deaths by Month of the Year"
   ]
  },
  {
   "cell_type": "markdown",
   "id": "acceptable-handle",
   "metadata": {},
   "source": [
    "![Line Plot Months](images/month_of_year_linegraph.png \"Line Plot Months\")"
   ]
  },
  {
   "cell_type": "markdown",
   "id": "according-spain",
   "metadata": {},
   "source": [
    "**Figure 9**: Visualization of the temporal trends in the drug related deaths dataset with respect to the month of the year.  The month of the year is represented by the x-axis and the number of drug related deaths for each year is represented by the y-axis. On the x-axis, 1 represents the month of January, 2 represents the month of February, and so on.\n",
    "\n",
    "*Result 9*: The distribution is trimodal with very sharp increases in the number of drug related death cases occurring in the months of March (*Result 9a*), June (*Result 9b*), and November (*Result 9c*).\n"
   ]
  },
  {
   "cell_type": "markdown",
   "id": "derived-latter",
   "metadata": {},
   "source": [
    "### Visualizing the Number of Drug Related Deaths by Day of Week\n"
   ]
  },
  {
   "cell_type": "markdown",
   "id": "bright-russian",
   "metadata": {},
   "source": [
    "![Line Plot Day of Week](images/day_of_week_linegraph.png \"Line Plot Day of Week\")"
   ]
  },
  {
   "cell_type": "markdown",
   "id": "meaningful-newsletter",
   "metadata": {},
   "source": [
    "**Figure 10**: Visualization of the temporal trends in the drug related deaths dataset with respect to the day of the year.  The day of the week is represented by the x-axis and the number of drug related deaths for each year is represented by the y-axis. On the x-axis, 0 represents Monday, 1 represents Tuesday, and so on.\n",
    "\n",
    "*Result 10a*: The distribution indicates that drug related death cases are less frequent during Mondays, Tuesday, Wednesdays, and Thursdays and more frequent during Fridays, Saturdays, and Sundays.  \n",
    "\n",
    "*Result 10b*: The number of drug related death cases sharply increases on Fridays, with the number of death cases reaching peak levels on Fridays and Saturdays.  Death cases decline on Sundays and remain low throughout the first half of the week until they peak once again on Fridays. \n"
   ]
  },
  {
   "cell_type": "markdown",
   "id": "literary-counter",
   "metadata": {},
   "source": [
    "### Residual Plots for both Linear Regression Models"
   ]
  },
  {
   "cell_type": "markdown",
   "id": "noticed-lighting",
   "metadata": {},
   "source": [
    "![6-parameter residual plot](images/6param_residual.png \"6-parameter residual plot\")"
   ]
  },
  {
   "cell_type": "markdown",
   "id": "national-button",
   "metadata": {},
   "source": [
    "**Figure 11**: Residual plot for the six-parameter linear regression model.  The predicted y values represent the number of drug related deaths in a specific county for a specific ethnic group during a specific year.  The educational attainment, racial identity, and income bracket features used in the three-parameter model were also incorporated in this six-parameter model.  The three additional parameters were the drug classifications heroin, fentanyl, and cocaine.  "
   ]
  },
  {
   "cell_type": "markdown",
   "id": "nearby-comfort",
   "metadata": {},
   "source": [
    "![3-parameter residual plot](images/3param_residual.png \"3-parameter residual plot\")"
   ]
  },
  {
   "cell_type": "markdown",
   "id": "popular-daisy",
   "metadata": {},
   "source": [
    "**Figure 12**: Residual plot for the three-parameter linear regression model.  The predicted y values represent the number of drug related deaths in a specific county for a specific ethnic group during a specific year.  The three parameters used in this model were educational attainment, racial identity, and income bracket."
   ]
  },
  {
   "cell_type": "markdown",
   "id": "outside-breed",
   "metadata": {},
   "source": [
    "## VII. Discussion"
   ]
  },
  {
   "cell_type": "markdown",
   "id": "wanted-bulgarian",
   "metadata": {},
   "source": [
    "Even though the exact latitude and longitude values from the location of death data from the drug related deaths dataset were used to create the heatmap, it is apparent that there are many clusters of \"hot spots'’ (Result 1) as opposed to a roughly even geographical spread of death cases. Upon closer inspection of these hot spots, it appears that the locations of deaths related to drug use are clustered around the centers of towns and cities (Result 2).  Another interesting characteristic of this heatmap is that there is one ultra hotspot designated by the color red (Result 3) in which a much higher concentration of drug related deaths are located than in any other area in the whole state of Connecticut. This ultra hotspot is centered in Hartford.  Hartford is the capital of Connecticut[[9]](https://en.wikipedia.org/wiki/Hartford,_Connecticut).  It is surprising that the heatmap indicates that almost all cases of drug related deaths occurred exclusively at the central locations of cities, since drug usage can occur at any geographical location within a particular city, town, or village.  The authors hypothesize that the death cases are concentrated around the centers of towns and cities either because the death cases may have been reported with similar coordinates as they were recorded in the database as a matter of convenience, or alternately, this geographical trend may simply be an artifact of the nature of the software that was used to record the data in the system.\n",
    "\n",
    "Because of the opioid crisis that has taken hold of the United States in the past decade[[10]](https://www.ncbi.nlm.nih.gov/books/NBK458661/), it is not too surprising that the majority of drug related deaths in this dataset were due to opioid drugs such as heroin, fentanyl, fentanyl analogue, oxycodone, oxymorphone, hydrocodone, methadone, tramadol as seen in Figure 4.  In practice, opioid drugs in particular are more deadly than many other types of drugs because there is little room for user error since opioid drugs have very low lethal doses.  For example, the lethal dose of heroin is approximately 20 milligrams[[11]](https://pubchem.ncbi.nlm.nih.gov/compound/5462328#section=Reported-Fatal-Dose) and the lethal dose of fentanyl is approximately 250 micrograms[[12]](https://pubchem.ncbi.nlm.nih.gov/source/hsdb/3329#section=Body-Burden).  Additionally, the social and environmental conditions typically surrounding the usage of opiates are generally not conducive to an individual’s ability to access medical attention in the case of an overdose, which also contributes to a large number of deaths caused by opioid use.  Although it makes sense that drug deaths related to opioid use would comprise a decent portion of the data, it was downright shocking to see that the frequency of all deaths caused by the three very popular and lethal drugs cocaine, ethanol, and benzodiazepines pales in comparison to the frequency of deaths involving opioid drugs (Result 4). All drugs classified in the opiate or opioid category are chemically similar and exhibit similar physiological and psychological effects when ingested[[13]](https://en.wikipedia.org/wiki/Opioid).  However, Cocaine[[14]](https://en.wikipedia.org/wiki/Cocaine), ethanol[[15]](https://en.wikipedia.org/wiki/Ethanol), and benzodiazepines[[16]](https://en.wikipedia.org/wiki/Benzodiazepine) have three chemically distinct profiles and exhibit distinct physiological and psychological effects when ingested.  One note is that although ethanol and benzodiazepines do both cause central nervous system depressant effects, they act on different types of GABA receptors, which contributes to a difference in physiological and psychological effects when ingested[[17]](https://www.tandfonline.com/doi/abs/10.3109/07853899009148934).  Furthermore, ethanol is viewed much differently than most other psychoactive substances by the general public since ethanol is available for purchase to any individual who is of the legal drinking age.  Sadly, most people do not consider ethanol to be a real drug, and this contributes to its high lethality rates because ethanol use is not viewed in the same light as most other drug use. With all this considered, it is downright shocking to see that the number of death cases  where at least one opioid was involved is far greater than even the sum of all deaths involving cocaine, ethanol, and benzodiazepines.  These results demonstrate just how dire the opioid crisis has been in the United states this past decade.\n",
    "\n",
    "As seen in Figure 5, death cases in the drug related death cases were roughly 2.5 times more frequent in males than they are in females regardless of age (Result 5a).  According to the fifth edition of the Diagnostic and Statistical Manual for Mental Disorders (DSM-5), According to the DSM-5, the mental health condition called substance use disorder, which was formerly known as drug or alcohol addiction, is twice as commonly diagnosed in males compared to females[[18]](https://dsm.psychiatryonline.org/doi/book/10.1176/appi.books.9780890425596).  Since substance use disorder is a diagnosis assigned to people who have clinically significant difficulties with drug use, this may be related to the gender-related trend seen in Figure 5.  Additionally, the kernel density estimate in Figure 5 indicates that drug usage that results in death is the most prevalent in the age groups of 28-32 years old and 48-52 years old (Result 5b).  The DSM-5 indicates that drug intoxication and substance use disorder most often begin in one’s teens or early twenties and that drug use often escalates with age.  This finding may have an association with the first mode corresponding to the age group of 28-32 years old.  The authors hypothesize that the mode in the 48-52 year old age group may be associated with the general trend that people often have more disposable income as they age due to an accumulation of resources over their lifetime.  Sustained drug usage is expensive, so having more disposable income may be associated with more pronounced drug related behavior that leads to death. \n",
    "\n",
    "The data in Figure 6 indicate that the distributions for male and female death cases are overall similar, but that there are some gender related differences in the types of drugs found in the person’s system at the time of their death (Result 6).  When analyzing the drug classifications in the context of the gender related trends, it was found that although both genders use opioid drugs equally, females are more likely to use drugs that are legal with a valid prescription, which are drugs in the Drug Enforcement Agency (DEA) drug Schedules II-V[[19]](https://www.deadiversion.usdoj.gov/schedules/orangebook/orangebook.pdf), whether that was a prescription opioid such as fentanyl or another prescription drug such as benzodiazepines.  In addition, males were more likely to use drugs that were illegal in all circumstances, which are drugs in the DEA Schedule I[[19]](https://www.deadiversion.usdoj.gov/schedules/orangebook/orangebook.pdf).  An example of a Schedule I drug is Heroin, is more frequently used by males in this dataset.  Males in this dataset were also more likely to use amphetamine and methamphetamine.  Contrary to popular belief, methamphetamine is a Schedule II drug, meaning that it has an approved medical usage in the United States.  In particular, methamphetamine is infrequently prescribed under the trade name Desoxyn in tiny doses of approximately 5-10 milligrams per day in the form of an oral tablet order to treat cases of severe Attention Deficit Hyperactivity Disorder (ADHD) and severe Obesity[[20]](https://www.accessdata.fda.gov/drugsatfda_docs/label/2015/005378s030lbl.pdf).  Recreational doses of methamphetamine are at least five-ten times higher than therapeutic dose of Desoxyn with street dosages of methamphetamine frequently exceeding 50 mg per dose[[21]](https://www.accessdata.fda.gov/drugsatfda_docs/label/2015/005378s030lbl.pdf).  Furthermore, recreational doses of methamphetamine are usually administered through a route of administration that further intensifies the physiological and psychological effects of the drug such as smoking, insufflation, or intravenous injection as opposed to the orally administered prescription-only Desoxyn tablet.  With all of this considered, the authors believe that it is safe to say that the overwhelming majority, if not all, of individuals who died from methamphetamine use in this dataset did not use it with a valid medical prescription. \n",
    "\n",
    "Figure 7 demonstrates that drug related death cases in the dataset occurred most frequently in the age range of 30-55 years old (Result 7).  The authors speculate that most of the death cases occur in individuals of age 30 and older may be connected to the fact that clinically significant levels of drug usage will often escalate from when a person first begins to use drugs in their teenage years or in their early twenties[[18]](https://dsm.psychiatryonline.org/doi/book/10.1176/appi.books.9780890425596).  Escalation of heavy drug usage over time may lead to a higher likelihood of death as the person who uses drugs ages[[18]](https://dsm.psychiatryonline.org/doi/book/10.1176/appi.books.9780890425596).  Similarly, the authors believe that most of the individuals in the dataset were 55 years old or younger may be because heavy drug usage is associated with a severely decreased life expectancy[[22]](https://journals.plos.org/plosone/article?id=10.1371/journal.pone.0226732).  On average, individuals who heavily use drugs very often die far earlier than the average population.\n",
    "\n",
    "As demonstrated in Figure 8, the number of drug related death cases exhibited clear temporal trends when analyzed on the timescale of years.  To interpret these trends, it is important to recall that from the results in Figure 4, drugs that fall under the opioid category are by far the most commonly used types of drugs in this dataset.  The authors hypothesize that underlying policy changes may be associated with the fact that the graph starts to trend away from the very steep increase in death cases after the year 2016.  Over the first half of the 2010s, the Federal Drug Administration (FDA) approved the medical usage of many opioid drugs[[23]](https://www.fda.gov/media/106638/download).  Numerous opioid drugs were added to the market as a direct consequence of the FDA’s actions, and both legal and illegal opioid usage increased (Result 8a).  In 2016, the FDA started implementing a “far-reaching action plan” which included staunch regulations on opioid medication usage in response to the opioid abuse epidemic[[23]](https://www.fda.gov/media/106638/download).  Figure 6 demonstrates a decrease in the number of drug related death cases following 2016 (Result 8b).  In 2018, the FDA started putting tighter restrictions on physicians[[23]](https://www.fda.gov/media/106638/download) who write prescriptions for opioid drugs to ensure that they only are prescribed to patients with clinically significant levels of pain (Result 8c).  In 2018, the FDA also took action against 53 websites[[23]](https://www.fda.gov/media/106638/download) that illegally sold unapproved opioid drugs to further target illegal opioid drug sales (Result 8c).\n",
    "\n",
    "Recall from Figure 9 that the temporal plot concerning the frequency of drug related death cases with respect to the month of the year exhibits very sharp increases in the number of drug related death cases in the months of March, June, and November (Result 9).  This pattern in the data is clearly seasonal.  In a study conducted on seasonal patterns in suicide behavior in Northwest Alaska, peak rates of suicide behavior occured between the months of April and August[[24]](https://www.sciencedirect.com/science/article/pii/S0033350616000676?via%3Dihub), which may be associated with a peak in the number of drug related death cases observed in March (Result 9b). Similar seasonal spring to summer peaks in suicide behavior have been observed in various northern countries (e.g. Greenland, Finland, and Norway) as well as in countries with lower latitudes (e.g. France, Japan, and the United States)[[24]](https://www.sciencedirect.com/science/article/pii/S0033350616000676?via%3Dihub).   A proposed mechanism for this seasonal trend in suicide behavior is that transitions in the number of day light hours and the quality of that daylight have a powerful effect on the mood and cognition of individuals and that seasons with fewer daylight hours are associated with impared cognition in individuals[[25]](https://www.ncbi.nlm.nih.gov/pmc/articles/PMC2728098/).  In fact, there exists a mental health condition called Seasonal Affective Disorder, which is a type of clinical depression that is associated with seasonality[[26]](https://www.ncbi.nlm.nih.gov/pmc/articles/PMC4673349/).  Most people with a diagnosis of Seasonal Affective Disorder become the most depressed during the months of the year when sunlight is the most scarce.  A possible explanation for the peak in March is that individuals with seasonal depression are especially likely to participate in suicide behavior if their mood and cognition do not improve by the spring (Result 9a).  This notion is supported by a piece of anecdotal evidence that the authors have received declaring that suicide behavior is the most frequent at the beginning of spring for individuals living in Alaska.  Individuals who experience seasonal depression may become depressed when the days become increasingly shorter starting at the end of fall, which may be correlated with the peak in November (Result 9c).  As a northeastern state, Connecticut is located further north compared to most other U.S. states, which may possibly potentiate the underlying seasonal spring to summer peak in suicide cases that has been observed in the United States.  Although the documentation provided for the drug related deaths dataset claims the death cases concern accidental drug related deaths, it is extremely hard to confirm that these death cases were in fact a result of accidental drug overdoses.  It is important to recall that opioid drugs are by far the most frequent drug classifications associated with the death cases in the dataset.  Fatalities concerning opioid drugs are common in part because the lethal doses or opioid drugs are often very low and people who participate in suicide behavior through the use of drugs tend to favor drugs with low lethal doses in order to maximize the chances of their suicide behavior resulting in a completed suicide.  Furthermore, it was found as of 2020 that opioid drugs are the most commonly used drugs in fatal suicide poisoning cases[[27]](https://jamanetwork.com/journals/jamanetworkopen/fullarticle/2763226).  Given all of these factors combined with the seasonal nature of the peaks in the incidence of death cases in Figure 9, the authors speculate that a statistically significant portion of the death cases in the drug related deaths dataset were the result of fatal suicide poisonings.  The authors also acknowledge that the seasonality of the data may be correlated with environmental changes that follow seasonal transitions such as climate and humidity.\n",
    "\n",
    "As seen in Figure 10, the frequency of drug related death cases varies depending on the day of the week.  The authors hypothesize that a possible reason that drug related death cases are less frequent during the workweek days and more frequent during the weekend days is because people who heavily use drugs may either pause their usage or dial back on the intensity of their usage during the workweek days in order to attend to any professional or scholastic obligations, which are often conducted predominantly during the workweek days for most individuals (Result 10a).  Once these individuals have completed their duties for the week, they may use drugs more frequently or more heavily when they conclude their workweek on Friday, possibly sustaining elevated drug usage throughout the weekend and eventually dialing back their drug usage once again in anticipation of Monday (Result 10b). \n",
    "\n",
    "\n",
    "**The residual plot for the original six-parameter linear regression model, depicted in Figure 11, shows that most of the points cluster around the origin.  This is because most of our data in the modeling dataframe have a small number of drug related death cases, meaning the initial y-value is small for many of the data entries.** The residual plot also has points that are randomly scattered with no linear trend, which indicates good results.  This six-parameter linear regression model containing the three societal variables (racial identity, income bracket, and educational attainment) as well as three drug classifications (heroin, cocaine, and fentanyl) yielded approximately 99.33% accuracy on the training dataset and approximately 98.96% accuracy on the test dataset.   Since the vast majority of time and project resources were devoted to cleaning and joining multiple auxiliary datasets in addition to the dataset of interest concerning drug related deaths, there was little time left to spend on modeling.  As a result, the original six-parameter linear regression model was not an ideal model.  The original drug related deaths dataset had approximately 5000 records, which got reduced to a miniscule 170 records after grouping the data and performing all the table joins.  Ideally, the linear model would have only included three parameters (educational attainment, racial identity, and income bracket), but it was necessary to add three drug classifications (heroin, fentanyl, and cocaine) to yield results,making six parameters in total.  Thus, including so many features in the model yielded too few records to make an accurate linear regression model. \n",
    "\n",
    "An improved version of the model, which only had three parameters, was also constructed.  The residual plot for the improved three-parameter linear regression model, depicted in Figure 12, demonstrates a clear linear relationship between the predicted y-values and the true y-values. In this model, only the three societal variables (racial identity, income bracket, and educational attainment) were included as features.  The improved results demonstrated in this high-quality residual plot are confirmed by the fact that the original six-parameter model yields predicted y-values with rates of accuracy of 77.98% on the training dataset and 84.35% on the test dataset, which are fairly high rates of accuracy with fairly low rates of error.  This model does have some room for improvement, but the results of this three-parameter model are fairly accurate with a residual plot that further demonstrates the superior quality of this three-parameter model over the original six-parameter model.\n",
    "\n"
   ]
  },
  {
   "cell_type": "markdown",
   "id": "minute-correction",
   "metadata": {},
   "source": [
    "## VIII. Future Work\n",
    "\n",
    "With all of the work that has been done on this project thus far, there are still several areas that can be expanded upon during future work. The first aspect of work that can be done in the future concerns further investigating the underlying factors associated with the trimodal seasonal peaks for the month of year plot exemplified in Figure 9.  The current plot lacks drug-classification specific information and it is thus currently impossible to discern any underlying drug-specific factors that may be associated with the month of year temporal trends exhibited in the drug related deaths.  For example, there is a possibility that people who use heroin most frequently die in march and cocaine users mostly die in June.  Further work may include creating plots with more detail by grouping the data by each drug classifications in order to assess differences between the frequency of drug related deaths connected to the different drug classifications with respect to the month of year.  In addition, outside research can be performed to investigate the possibility of seasonal changes affecting factors such as a person’s metabolism, which would include the metabolism of foreign substances such as psychoactive drugs.  Furthermore, future work may also include optimizing the feature engineering procedures of this experiment.  Potential optimization procedures may include applying transformations such computing the square or square root.  Other measures may include investigating any possible exponential or logarithmic relationships between the educational attainment, racial identity, and income bracket parameters.  Ideally, such optimization procedures would further improve the quality of the three-parameter model’s predictions."
   ]
  },
  {
   "cell_type": "markdown",
   "id": "saving-trouble",
   "metadata": {},
   "source": [
    "## IX. Acknowledgements\n",
    "\n",
    "\n",
    "The original linear-regression model that was exhibited during the class presentation was the six-parameter linear model.  The improved three-parameter model was built after the project presentations had taken place.  Residual plots for both the six-parameter and three-parameter linear regression models were added per the suggestion of Xudong Zhuang, who is a colleague of the authors.\n",
    "\n",
    "\n"
   ]
  },
  {
   "cell_type": "markdown",
   "id": "constitutional-mobility",
   "metadata": {},
   "source": [
    "matplotlib[[1]](https://matplotlib.org/stable/contents.html)"
   ]
  },
  {
   "cell_type": "code",
   "execution_count": null,
   "id": "natural-station",
   "metadata": {},
   "outputs": [],
   "source": []
  }
 ],
 "metadata": {
  "kernelspec": {
   "display_name": "Python 3",
   "language": "python",
   "name": "python3"
  },
  "language_info": {
   "codemirror_mode": {
    "name": "ipython",
    "version": 3
   },
   "file_extension": ".py",
   "mimetype": "text/x-python",
   "name": "python",
   "nbconvert_exporter": "python",
   "pygments_lexer": "ipython3",
   "version": "3.7.7"
  }
 },
 "nbformat": 4,
 "nbformat_minor": 5
}
