{
 "cells": [
  {
   "cell_type": "markdown",
   "id": "supported-gibson",
   "metadata": {},
   "source": [
    "# Personal and Societal Factors Involved in Accidental Drug Related Deaths"
   ]
  },
  {
   "cell_type": "markdown",
   "id": "manufactured-mailman",
   "metadata": {},
   "source": [
    "### Authors: Jasmine Lucy Newton & Muhan Zhang"
   ]
  },
  {
   "cell_type": "markdown",
   "id": "virgin-booth",
   "metadata": {},
   "source": [
    "#### Notes for Our Team on Remaining Tasts for Final Report (this cell will be deleted later)\n",
    "\n",
    "1. We need to add a residual plot to incorporate Xudong’s suggestion in our report\n",
    "2. We can add images to our narrative notebook using importation code.  The images for our charts and graphs have been added to the images/ folder in the repo.\n",
    "3. However, we need to figure out how to add our interactive heatmap to the narrative notebook.\n"
   ]
  },
  {
   "cell_type": "markdown",
   "id": "stuffed-karen",
   "metadata": {},
   "source": [
    "## I. Abstract"
   ]
  },
  {
   "cell_type": "markdown",
   "id": "public-doctrine",
   "metadata": {},
   "source": [
    "## II. Introduction"
   ]
  },
  {
   "cell_type": "markdown",
   "id": "cathedral-raise",
   "metadata": {},
   "source": [
    "## III. Description of Data"
   ]
  },
  {
   "cell_type": "markdown",
   "id": "endless-imagination",
   "metadata": {},
   "source": [
    "## Methods"
   ]
  },
  {
   "cell_type": "code",
   "execution_count": 1,
   "id": "incredible-learning",
   "metadata": {},
   "outputs": [],
   "source": [
    "from IPython.display import Image   # Library to load images into cell\n",
    "#Image(filename='number_deaths_by_drug.png')  # sample code"
   ]
  }
 ],
 "metadata": {
  "kernelspec": {
   "display_name": "Python 3",
   "language": "python",
   "name": "python3"
  },
  "language_info": {
   "codemirror_mode": {
    "name": "ipython",
    "version": 3
   },
   "file_extension": ".py",
   "mimetype": "text/x-python",
   "name": "python",
   "nbconvert_exporter": "python",
   "pygments_lexer": "ipython3",
   "version": "3.7.7"
  }
 },
 "nbformat": 4,
 "nbformat_minor": 5
}
