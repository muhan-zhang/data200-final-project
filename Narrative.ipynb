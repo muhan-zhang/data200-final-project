{
 "cells": [
  {
   "cell_type": "markdown",
   "id": "supported-gibson",
   "metadata": {},
   "source": [
    "# Personal and Societal Factors Involved in Accidental Drug Related Deaths"
   ]
  },
  {
   "cell_type": "markdown",
   "id": "manufactured-mailman",
   "metadata": {},
   "source": [
    "## Authors: Jasmine Lucy Newton & Muhan Zhang"
   ]
  },
  {
   "cell_type": "markdown",
   "id": "virgin-booth",
   "metadata": {},
   "source": [
    "### Notes for Our Team on Remaining Tasks for Final Report (this cell will be deleted later)\n",
    "\n",
    "1. We need to add a residual plot to incorporate Xudong’s suggestion in our report\n",
    "2. We can add images to our narrative notebook using importation code.  The images for our charts and graphs have been added to the images/ folder in the repo.\n",
    "3. However, we need to figure out how to add our interactive heatmap to the narrative notebook.\n"
   ]
  },
  {
   "cell_type": "markdown",
   "id": "introductory-health",
   "metadata": {},
   "source": [
    "### Questions from Jasmine to Muhan (this cell will be deleted later)\n",
    "\n",
    "**Question 1: Is it possible that the granularity we chose to model on (counties) was too coarse?**\n",
    "\n",
    "I read several resources that say finer granularities are usually better than coarser granularities. Including our data 100 textbook (link https://www.textbook.ds100.org/ch/07/repr_granularity.html )\n",
    "\n",
    "I want to possibly incorporate that into our report in the concluding sections by saying something to the effect of : “If we chose a finer granularity such as cities rather than counties the linear regression model may have yielded better results”  \n",
    "\n",
    "I will phrase it more scientifically and eloquently for the actual report of course and only after getting your input as to what you may want these potential types of sentences to say.\n",
    "\n",
    "\n",
    "**Question 2: What types of information does the CDP dataset bring to our project?  What does the municipality's dataset bring?**  \n",
    "Also does what location types fall under the umbrella of municipalities (i.e. what location types does this dataset contain: villages, boroughs, towns, and/or cities?)\n",
    "\n",
    "\n",
    "**Question 3: How did we determine that all the locations of death data were in connecticut?**  \n",
    "Did you use the latitude, longitude data to sort the locations into their respective towns/cities and then their counties?\n",
    "I remember you did some mapping technique which would be cool to talk about and add more meat to the methods section of the report.\n",
    "\n"
   ]
  },
  {
   "cell_type": "markdown",
   "id": "stuffed-karen",
   "metadata": {},
   "source": [
    "## I. Abstract"
   ]
  },
  {
   "cell_type": "markdown",
   "id": "public-doctrine",
   "metadata": {},
   "source": [
    "## II. Introduction"
   ]
  },
  {
   "cell_type": "markdown",
   "id": "cathedral-raise",
   "metadata": {},
   "source": [
    "## III. Description of Data"
   ]
  },
  {
   "cell_type": "markdown",
   "id": "endless-imagination",
   "metadata": {},
   "source": [
    "## Methods"
   ]
  },
  {
   "cell_type": "code",
   "execution_count": 1,
   "id": "incredible-learning",
   "metadata": {},
   "outputs": [],
   "source": [
    "from IPython.display import Image   # Library to load images into cell\n",
    "#Image(filename='number_deaths_by_drug.png')  # sample code\n",
    "\n",
    "#For markdown syntax\n",
    "# #[**picture name**](**picture address**)\n",
    "\n",
    "# C:\\\\Users\\\\Jasmine\\\\Documents\\\\MSSE Work\\\\Data 200\\\\Project\\\\data200-final-project\\\\"
   ]
  },
  {
   "cell_type": "markdown",
   "id": "harmful-explanation",
   "metadata": {},
   "source": [
    "![Barplot Drug Type](images/barplot_deaths_by_drug.png)\n"
   ]
  },
  {
   "cell_type": "code",
   "execution_count": null,
   "id": "polish-motor",
   "metadata": {},
   "outputs": [],
   "source": [
    "from IPython.display import Image   # Library to load images into cell\n",
    "Image(filename='number_deaths_by_drug.png')"
   ]
  }
 ],
 "metadata": {
  "kernelspec": {
   "display_name": "Python 3",
   "language": "python",
   "name": "python3"
  },
  "language_info": {
   "codemirror_mode": {
    "name": "ipython",
    "version": 3
   },
   "file_extension": ".py",
   "mimetype": "text/x-python",
   "name": "python",
   "nbconvert_exporter": "python",
   "pygments_lexer": "ipython3",
   "version": "3.7.7"
  }
 },
 "nbformat": 4,
 "nbformat_minor": 5
}
